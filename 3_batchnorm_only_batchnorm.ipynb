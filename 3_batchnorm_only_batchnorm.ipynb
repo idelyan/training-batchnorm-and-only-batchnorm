{
 "cells": [
  {
   "cell_type": "code",
   "execution_count": 1,
   "metadata": {
    "id": "3FzsFbXBdQFc"
   },
   "outputs": [],
   "source": [
    "from tensorflow.keras.layers import Dense, BatchNormalization, Input\n",
    "from tensorflow.keras.optimizers import Adam, SGD\n",
    "from tensorflow.keras.applications.resnet50 import ResNet50\n",
    "from tensorflow.keras.datasets import cifar10\n",
    "from tensorflow.keras.preprocessing.image import ImageDataGenerator\n",
    "import numpy as np\n",
    "from tensorflow.keras import Sequential\n",
    "from tensorflow.keras.utils import to_categorical\n",
    "from matplotlib import pyplot\n",
    "from tensorflow.keras import mixed_precision\n",
    "from tensorflow.keras.callbacks import ModelCheckpoint, ReduceLROnPlateau, EarlyStopping\n",
    "from tensorflow.keras.models import Model, load_model\n",
    "import tensorflow as tf\n",
    "import matplotlib.pyplot as plt"
   ]
  },
  {
   "cell_type": "code",
   "execution_count": 2,
   "metadata": {
    "colab": {
     "base_uri": "https://localhost:8080/"
    },
    "id": "RxNbho1GdNGv",
    "outputId": "8ec800c2-8e82-4037-8d60-098182f2c24e"
   },
   "outputs": [
    {
     "name": "stdout",
     "output_type": "stream",
     "text": [
      "INFO:tensorflow:Mixed precision compatibility check (mixed_float16): OK\n",
      "Your GPU will likely run quickly with dtype policy mixed_float16 as it has compute capability of at least 7.0. Your GPU: Tesla T4, compute capability 7.5\n",
      "Compute dtype: float16\n",
      "Variable dtype: float32\n"
     ]
    }
   ],
   "source": [
    "if tf.config.list_physical_devices('GPU'):\n",
    "    policy = mixed_precision.Policy('mixed_float16')\n",
    "    mixed_precision.set_global_policy(policy)\n",
    "    batch_size = 128\n",
    "    print('Compute dtype: %s' % policy.compute_dtype)\n",
    "    print('Variable dtype: %s' % policy.variable_dtype)\n",
    "else:\n",
    "    print('The model will run on a CPU')\n",
    "    batch_size = 64"
   ]
  },
  {
   "cell_type": "code",
   "execution_count": 3,
   "metadata": {
    "id": "EzjZqA6LdSiU"
   },
   "outputs": [],
   "source": [
    "n_classes = 10\n",
    "\n",
    "data_path = 'imagenet10'\n",
    "\n",
    "train_data_folder = data_path + '/' + 'train/'\n",
    "val_data_folder = data_path + '/' + 'val/'\n",
    "\n",
    "train_images_numbers = 12394\n",
    "val_images_numbers = 1000\n",
    "\n",
    "img_width, img_height = 128, 128\n",
    "input_shape = (img_width, img_height, 3)"
   ]
  },
  {
   "cell_type": "code",
   "execution_count": 4,
   "metadata": {
    "colab": {
     "base_uri": "https://localhost:8080/"
    },
    "id": "7ZwVWgdZdWD0",
    "outputId": "6dfe0bc0-77de-4563-c5a1-281642256a2b"
   },
   "outputs": [
    {
     "name": "stdout",
     "output_type": "stream",
     "text": [
      "Found 12394 images belonging to 10 classes.\n",
      "Found 1000 images belonging to 10 classes.\n"
     ]
    }
   ],
   "source": [
    "train_datagen = ImageDataGenerator(\n",
    "        rescale=1./255,\n",
    "        shear_range=0.1,\n",
    "        zoom_range=0.1,\n",
    "        rotation_range=0.2,\n",
    "        brightness_range=[0.7, 1.3],\n",
    "        width_shift_range=0.1,\n",
    "        height_shift_range=0.1,\n",
    "        horizontal_flip=True)\n",
    "\n",
    "test_datagen = ImageDataGenerator(rescale=1./255,\n",
    "                                  shear_range=0.1,\n",
    "                                  zoom_range=0.1,\n",
    "                                  rotation_range=0.2,\n",
    "                                  brightness_range=[0.7, 1.3],\n",
    "                                  width_shift_range=0.1,\n",
    "                                  height_shift_range=0.1,\n",
    "                                  horizontal_flip=True)\n",
    "\n",
    "\n",
    "train_generator = train_datagen.flow_from_directory(\n",
    "        train_data_folder,\n",
    "        target_size=(img_width, img_height),\n",
    "        color_mode='rgb',\n",
    "        batch_size=batch_size,\n",
    "        class_mode='categorical')\n",
    "\n",
    "test_generator = test_datagen.flow_from_directory(\n",
    "        val_data_folder,\n",
    "        target_size=(img_width, img_height),\n",
    "        color_mode='rgb',\n",
    "        batch_size=batch_size,\n",
    "        class_mode='categorical')"
   ]
  },
  {
   "cell_type": "code",
   "execution_count": 5,
   "metadata": {
    "id": "qK3KOmkkdaQs"
   },
   "outputs": [],
   "source": [
    "base_model = ResNet50(weights='imagenet', include_top=False, input_shape=input_shape, pooling='avg')"
   ]
  },
  {
   "cell_type": "code",
   "execution_count": 6,
   "metadata": {
    "id": "BEo8eoB4dcWE"
   },
   "outputs": [],
   "source": [
    "x = base_model.output\n",
    "output = Dense(n_classes, activation='softmax', dtype='float32')(x)"
   ]
  },
  {
   "cell_type": "code",
   "execution_count": 7,
   "metadata": {
    "id": "DRczbXNyddvs"
   },
   "outputs": [],
   "source": [
    "model = Model(inputs=base_model.input, outputs=output)"
   ]
  },
  {
   "cell_type": "code",
   "execution_count": null,
   "metadata": {
    "id": "FHuQTcexdgkk"
   },
   "outputs": [],
   "source": [
    "model.summary()"
   ]
  },
  {
   "cell_type": "code",
   "execution_count": null,
   "metadata": {
    "id": "TJYr8rsLdiWd"
   },
   "outputs": [],
   "source": [
    "for i, layer in enumerate(model.layers):\n",
    "   print(i, layer.name)"
   ]
  },
  {
   "cell_type": "code",
   "execution_count": 8,
   "metadata": {
    "id": "ns4QJQjwdlXV"
   },
   "outputs": [],
   "source": [
    "he_normal = tf.keras.initializers.he_normal()"
   ]
  },
  {
   "cell_type": "code",
   "execution_count": 9,
   "metadata": {
    "id": "tNlau1T3dnGs"
   },
   "outputs": [],
   "source": [
    "for layer in model.layers:\n",
    "    if layer.name.endswith('_bn'):\n",
    "      new_weights = [\n",
    "          he_normal(layer.weights[0].shape),\n",
    "          tf.zeros(layer.weights[1].shape),\n",
    "          tf.zeros(layer.weights[2].shape),\n",
    "          tf.ones(layer.weights[3].shape)]\n",
    "\n",
    "      layer.set_weights(new_weights)\n",
    "      layer.trainable = True\n",
    "    else:\n",
    "      layer.trainable = False"
   ]
  },
  {
   "cell_type": "code",
   "execution_count": 10,
   "metadata": {
    "id": "PezePF0IdorF"
   },
   "outputs": [],
   "source": [
    "model.compile(optimizer=Adam(learning_rate=0.01), loss=\"categorical_crossentropy\", metrics=[\"accuracy\"])"
   ]
  },
  {
   "cell_type": "code",
   "execution_count": 11,
   "metadata": {
    "id": "8memrYLtdqgM"
   },
   "outputs": [],
   "source": [
    "callbacks = [\n",
    "    EarlyStopping(patience=20, monitor='val_accuracy', mode=\"auto\"),\n",
    "    ReduceLROnPlateau(factor=0.1, patience=10, min_lr=0.00001, monitor='val_accuracy', mode='max', verbose=1),\n",
    "    ModelCheckpoint('imagenet10.h5', save_best_only=True, save_weights_only=True, monitor='val_accuracy', mode='max', verbose=1)\n",
    "]"
   ]
  },
  {
   "cell_type": "code",
   "execution_count": 12,
   "metadata": {
    "colab": {
     "base_uri": "https://localhost:8080/"
    },
    "id": "74y0Q8_ldr_1",
    "outputId": "4786cd6e-0be5-4cfa-eb36-1ddd503f1496"
   },
   "outputs": [
    {
     "name": "stdout",
     "output_type": "stream",
     "text": [
      "Epoch 1/500\n",
      "96/96 [==============================] - 78s 695ms/step - loss: 1.8552 - accuracy: 0.3321 - val_loss: 2.3787 - val_accuracy: 0.0971\n",
      "\n",
      "Epoch 00001: val_accuracy improved from -inf to 0.09710, saving model to drive/MyDrive/imagenet10.h5\n",
      "Epoch 2/500\n",
      "96/96 [==============================] - 64s 666ms/step - loss: 1.2288 - accuracy: 0.5825 - val_loss: 2.4261 - val_accuracy: 0.0993\n",
      "\n",
      "Epoch 00002: val_accuracy improved from 0.09710 to 0.09933, saving model to drive/MyDrive/imagenet10.h5\n",
      "Epoch 3/500\n",
      "96/96 [==============================] - 64s 665ms/step - loss: 1.0203 - accuracy: 0.6614 - val_loss: 2.5864 - val_accuracy: 0.1004\n",
      "\n",
      "Epoch 00003: val_accuracy improved from 0.09933 to 0.10045, saving model to drive/MyDrive/imagenet10.h5\n",
      "Epoch 4/500\n",
      "96/96 [==============================] - 64s 666ms/step - loss: 0.9276 - accuracy: 0.7010 - val_loss: 2.4443 - val_accuracy: 0.0938\n",
      "\n",
      "Epoch 00004: val_accuracy did not improve from 0.10045\n",
      "Epoch 5/500\n",
      "96/96 [==============================] - 64s 665ms/step - loss: 0.8707 - accuracy: 0.7171 - val_loss: 2.5201 - val_accuracy: 0.1775\n",
      "\n",
      "Epoch 00005: val_accuracy improved from 0.10045 to 0.17746, saving model to drive/MyDrive/imagenet10.h5\n",
      "Epoch 6/500\n",
      "96/96 [==============================] - 65s 673ms/step - loss: 0.8127 - accuracy: 0.7358 - val_loss: 2.1206 - val_accuracy: 0.1931\n",
      "\n",
      "Epoch 00006: val_accuracy improved from 0.17746 to 0.19308, saving model to drive/MyDrive/imagenet10.h5\n",
      "Epoch 7/500\n",
      "96/96 [==============================] - 65s 671ms/step - loss: 0.7713 - accuracy: 0.7510 - val_loss: 1.8387 - val_accuracy: 0.4721\n",
      "\n",
      "Epoch 00007: val_accuracy improved from 0.19308 to 0.47210, saving model to drive/MyDrive/imagenet10.h5\n",
      "Epoch 8/500\n",
      "96/96 [==============================] - 65s 672ms/step - loss: 0.7487 - accuracy: 0.7519 - val_loss: 1.2554 - val_accuracy: 0.6083\n",
      "\n",
      "Epoch 00008: val_accuracy improved from 0.47210 to 0.60826, saving model to drive/MyDrive/imagenet10.h5\n",
      "Epoch 9/500\n",
      "96/96 [==============================] - 65s 672ms/step - loss: 0.7425 - accuracy: 0.7532 - val_loss: 1.8324 - val_accuracy: 0.5301\n",
      "\n",
      "Epoch 00009: val_accuracy did not improve from 0.60826\n",
      "Epoch 10/500\n",
      "96/96 [==============================] - 65s 671ms/step - loss: 0.6833 - accuracy: 0.7720 - val_loss: 2.3718 - val_accuracy: 0.4118\n",
      "\n",
      "Epoch 00010: val_accuracy did not improve from 0.60826\n",
      "Epoch 11/500\n",
      "96/96 [==============================] - 64s 669ms/step - loss: 0.6766 - accuracy: 0.7757 - val_loss: 3.6410 - val_accuracy: 0.3426\n",
      "\n",
      "Epoch 00011: val_accuracy did not improve from 0.60826\n",
      "Epoch 12/500\n",
      "96/96 [==============================] - 64s 668ms/step - loss: 0.6607 - accuracy: 0.7834 - val_loss: 2.0202 - val_accuracy: 0.4743\n",
      "\n",
      "Epoch 00012: val_accuracy did not improve from 0.60826\n",
      "Epoch 13/500\n",
      "96/96 [==============================] - 65s 676ms/step - loss: 0.6487 - accuracy: 0.7869 - val_loss: 2.6549 - val_accuracy: 0.4040\n",
      "\n",
      "Epoch 00013: val_accuracy did not improve from 0.60826\n",
      "Epoch 14/500\n",
      "96/96 [==============================] - 64s 671ms/step - loss: 0.6326 - accuracy: 0.7878 - val_loss: 3.1276 - val_accuracy: 0.3929\n",
      "\n",
      "Epoch 00014: val_accuracy did not improve from 0.60826\n",
      "Epoch 15/500\n",
      "96/96 [==============================] - 65s 674ms/step - loss: 0.6313 - accuracy: 0.7905 - val_loss: 1.1890 - val_accuracy: 0.6551\n",
      "\n",
      "Epoch 00015: val_accuracy improved from 0.60826 to 0.65513, saving model to drive/MyDrive/imagenet10.h5\n",
      "Epoch 16/500\n",
      "96/96 [==============================] - 64s 669ms/step - loss: 0.6135 - accuracy: 0.7963 - val_loss: 1.5254 - val_accuracy: 0.5804\n",
      "\n",
      "Epoch 00016: val_accuracy did not improve from 0.65513\n",
      "Epoch 17/500\n",
      "96/96 [==============================] - 64s 670ms/step - loss: 0.6108 - accuracy: 0.8010 - val_loss: 1.5788 - val_accuracy: 0.5871\n",
      "\n",
      "Epoch 00017: val_accuracy did not improve from 0.65513\n",
      "Epoch 18/500\n",
      "96/96 [==============================] - 64s 665ms/step - loss: 0.6004 - accuracy: 0.8047 - val_loss: 2.0254 - val_accuracy: 0.5067\n",
      "\n",
      "Epoch 00018: val_accuracy did not improve from 0.65513\n",
      "Epoch 19/500\n",
      "96/96 [==============================] - 64s 668ms/step - loss: 0.5816 - accuracy: 0.8068 - val_loss: 1.7776 - val_accuracy: 0.5536\n",
      "\n",
      "Epoch 00019: val_accuracy did not improve from 0.65513\n",
      "Epoch 20/500\n",
      "96/96 [==============================] - 64s 668ms/step - loss: 0.5859 - accuracy: 0.8061 - val_loss: 1.6198 - val_accuracy: 0.5848\n",
      "\n",
      "Epoch 00020: val_accuracy did not improve from 0.65513\n",
      "Epoch 21/500\n",
      "96/96 [==============================] - 63s 656ms/step - loss: 0.5760 - accuracy: 0.8130 - val_loss: 2.1628 - val_accuracy: 0.5011\n",
      "\n",
      "Epoch 00021: val_accuracy did not improve from 0.65513\n",
      "Epoch 22/500\n",
      "96/96 [==============================] - 63s 659ms/step - loss: 0.5536 - accuracy: 0.8196 - val_loss: 2.5860 - val_accuracy: 0.4129\n",
      "\n",
      "Epoch 00022: val_accuracy did not improve from 0.65513\n",
      "Epoch 23/500\n",
      "96/96 [==============================] - 63s 658ms/step - loss: 0.5524 - accuracy: 0.8183 - val_loss: 1.1195 - val_accuracy: 0.6808\n",
      "\n",
      "Epoch 00023: val_accuracy improved from 0.65513 to 0.68080, saving model to drive/MyDrive/imagenet10.h5\n",
      "Epoch 24/500\n",
      "96/96 [==============================] - 63s 658ms/step - loss: 0.5584 - accuracy: 0.8100 - val_loss: 1.7523 - val_accuracy: 0.5714\n",
      "\n",
      "Epoch 00024: val_accuracy did not improve from 0.68080\n",
      "Epoch 25/500\n",
      "96/96 [==============================] - 64s 662ms/step - loss: 0.5378 - accuracy: 0.8250 - val_loss: 1.8570 - val_accuracy: 0.5569\n",
      "\n",
      "Epoch 00025: val_accuracy did not improve from 0.68080\n",
      "Epoch 26/500\n",
      "96/96 [==============================] - 63s 658ms/step - loss: 0.5346 - accuracy: 0.8210 - val_loss: 1.7718 - val_accuracy: 0.5859\n",
      "\n",
      "Epoch 00026: val_accuracy did not improve from 0.68080\n",
      "Epoch 27/500\n",
      "96/96 [==============================] - 63s 654ms/step - loss: 0.5257 - accuracy: 0.8279 - val_loss: 1.0296 - val_accuracy: 0.6797\n",
      "\n",
      "Epoch 00027: val_accuracy did not improve from 0.68080\n",
      "Epoch 28/500\n",
      "96/96 [==============================] - 63s 658ms/step - loss: 0.5132 - accuracy: 0.8344 - val_loss: 1.0247 - val_accuracy: 0.6886\n",
      "\n",
      "Epoch 00028: val_accuracy improved from 0.68080 to 0.68862, saving model to drive/MyDrive/imagenet10.h5\n",
      "Epoch 29/500\n",
      "96/96 [==============================] - 64s 663ms/step - loss: 0.5070 - accuracy: 0.8333 - val_loss: 1.4906 - val_accuracy: 0.5993\n",
      "\n",
      "Epoch 00029: val_accuracy did not improve from 0.68862\n",
      "Epoch 30/500\n",
      "96/96 [==============================] - 64s 664ms/step - loss: 0.5056 - accuracy: 0.8336 - val_loss: 0.9168 - val_accuracy: 0.7031\n",
      "\n",
      "Epoch 00030: val_accuracy improved from 0.68862 to 0.70312, saving model to drive/MyDrive/imagenet10.h5\n",
      "Epoch 31/500\n",
      "96/96 [==============================] - 64s 660ms/step - loss: 0.5082 - accuracy: 0.8294 - val_loss: 1.1167 - val_accuracy: 0.6663\n",
      "\n",
      "Epoch 00031: val_accuracy did not improve from 0.70312\n",
      "Epoch 32/500\n",
      "96/96 [==============================] - 63s 660ms/step - loss: 0.4832 - accuracy: 0.8391 - val_loss: 0.9339 - val_accuracy: 0.6975\n",
      "\n",
      "Epoch 00032: val_accuracy did not improve from 0.70312\n",
      "Epoch 33/500\n",
      "96/96 [==============================] - 63s 655ms/step - loss: 0.5075 - accuracy: 0.8327 - val_loss: 0.8818 - val_accuracy: 0.7277\n",
      "\n",
      "Epoch 00033: val_accuracy improved from 0.70312 to 0.72768, saving model to drive/MyDrive/imagenet10.h5\n",
      "Epoch 34/500\n",
      "96/96 [==============================] - 63s 656ms/step - loss: 0.4922 - accuracy: 0.8327 - val_loss: 1.9475 - val_accuracy: 0.5134\n",
      "\n",
      "Epoch 00034: val_accuracy did not improve from 0.72768\n",
      "Epoch 35/500\n",
      "96/96 [==============================] - 64s 668ms/step - loss: 0.4705 - accuracy: 0.8407 - val_loss: 1.7271 - val_accuracy: 0.5826\n",
      "\n",
      "Epoch 00035: val_accuracy did not improve from 0.72768\n",
      "Epoch 36/500\n",
      "96/96 [==============================] - 63s 656ms/step - loss: 0.4814 - accuracy: 0.8434 - val_loss: 0.9322 - val_accuracy: 0.7366\n",
      "\n",
      "Epoch 00036: val_accuracy improved from 0.72768 to 0.73661, saving model to drive/MyDrive/imagenet10.h5\n",
      "Epoch 37/500\n",
      "96/96 [==============================] - 64s 662ms/step - loss: 0.4932 - accuracy: 0.8321 - val_loss: 0.9985 - val_accuracy: 0.7109\n",
      "\n",
      "Epoch 00037: val_accuracy did not improve from 0.73661\n",
      "Epoch 38/500\n",
      "96/96 [==============================] - 64s 662ms/step - loss: 0.4695 - accuracy: 0.8419 - val_loss: 1.2761 - val_accuracy: 0.6462\n",
      "\n",
      "Epoch 00038: val_accuracy did not improve from 0.73661\n",
      "Epoch 39/500\n",
      "96/96 [==============================] - 63s 660ms/step - loss: 0.4905 - accuracy: 0.8383 - val_loss: 1.6511 - val_accuracy: 0.5614\n",
      "\n",
      "Epoch 00039: val_accuracy did not improve from 0.73661\n",
      "Epoch 40/500\n",
      "96/96 [==============================] - 63s 659ms/step - loss: 0.4872 - accuracy: 0.8350 - val_loss: 1.4557 - val_accuracy: 0.6228\n",
      "\n",
      "Epoch 00040: val_accuracy did not improve from 0.73661\n",
      "Epoch 41/500\n",
      "96/96 [==============================] - 63s 656ms/step - loss: 0.4624 - accuracy: 0.8465 - val_loss: 0.8780 - val_accuracy: 0.7154\n",
      "\n",
      "Epoch 00041: val_accuracy did not improve from 0.73661\n",
      "Epoch 42/500\n",
      "96/96 [==============================] - 63s 654ms/step - loss: 0.4644 - accuracy: 0.8468 - val_loss: 1.0312 - val_accuracy: 0.6875\n",
      "\n",
      "Epoch 00042: val_accuracy did not improve from 0.73661\n",
      "Epoch 43/500\n",
      "96/96 [==============================] - 63s 654ms/step - loss: 0.4562 - accuracy: 0.8480 - val_loss: 1.0742 - val_accuracy: 0.6998\n",
      "\n",
      "Epoch 00043: val_accuracy did not improve from 0.73661\n",
      "Epoch 44/500\n",
      "96/96 [==============================] - 63s 655ms/step - loss: 0.4713 - accuracy: 0.8450 - val_loss: 0.8243 - val_accuracy: 0.7522\n",
      "\n",
      "Epoch 00044: val_accuracy improved from 0.73661 to 0.75223, saving model to drive/MyDrive/imagenet10.h5\n",
      "Epoch 45/500\n",
      "96/96 [==============================] - 63s 655ms/step - loss: 0.4662 - accuracy: 0.8415 - val_loss: 1.0956 - val_accuracy: 0.6942\n",
      "\n",
      "Epoch 00045: val_accuracy did not improve from 0.75223\n",
      "Epoch 46/500\n",
      "96/96 [==============================] - 63s 654ms/step - loss: 0.4225 - accuracy: 0.8579 - val_loss: 1.2120 - val_accuracy: 0.6663\n",
      "\n",
      "Epoch 00046: val_accuracy did not improve from 0.75223\n",
      "Epoch 47/500\n",
      "96/96 [==============================] - 62s 650ms/step - loss: 0.4508 - accuracy: 0.8494 - val_loss: 1.1267 - val_accuracy: 0.6886\n",
      "\n",
      "Epoch 00047: val_accuracy did not improve from 0.75223\n",
      "Epoch 48/500\n",
      "96/96 [==============================] - 62s 649ms/step - loss: 0.4477 - accuracy: 0.8479 - val_loss: 0.9096 - val_accuracy: 0.7143\n",
      "\n",
      "Epoch 00048: val_accuracy did not improve from 0.75223\n",
      "Epoch 49/500\n",
      "96/96 [==============================] - 63s 657ms/step - loss: 0.4492 - accuracy: 0.8480 - val_loss: 0.7123 - val_accuracy: 0.7734\n",
      "\n",
      "Epoch 00049: val_accuracy improved from 0.75223 to 0.77344, saving model to drive/MyDrive/imagenet10.h5\n",
      "Epoch 50/500\n",
      "96/96 [==============================] - 63s 658ms/step - loss: 0.4282 - accuracy: 0.8565 - val_loss: 1.1999 - val_accuracy: 0.6842\n",
      "\n",
      "Epoch 00050: val_accuracy did not improve from 0.77344\n",
      "Epoch 51/500\n",
      "96/96 [==============================] - 66s 682ms/step - loss: 0.4415 - accuracy: 0.8506 - val_loss: 1.6273 - val_accuracy: 0.6038\n",
      "\n",
      "Epoch 00051: val_accuracy did not improve from 0.77344\n",
      "Epoch 52/500\n",
      "96/96 [==============================] - 65s 677ms/step - loss: 0.4426 - accuracy: 0.8496 - val_loss: 1.3158 - val_accuracy: 0.6775\n",
      "\n",
      "Epoch 00052: val_accuracy did not improve from 0.77344\n",
      "Epoch 53/500\n",
      "96/96 [==============================] - 63s 660ms/step - loss: 0.4174 - accuracy: 0.8592 - val_loss: 0.7438 - val_accuracy: 0.7757\n",
      "\n",
      "Epoch 00053: val_accuracy improved from 0.77344 to 0.77567, saving model to drive/MyDrive/imagenet10.h5\n",
      "Epoch 54/500\n",
      "96/96 [==============================] - 64s 666ms/step - loss: 0.4203 - accuracy: 0.8556 - val_loss: 1.5674 - val_accuracy: 0.5915\n",
      "\n",
      "Epoch 00054: val_accuracy did not improve from 0.77567\n",
      "Epoch 55/500\n",
      "96/96 [==============================] - 64s 662ms/step - loss: 0.4277 - accuracy: 0.8551 - val_loss: 1.3039 - val_accuracy: 0.6562\n",
      "\n",
      "Epoch 00055: val_accuracy did not improve from 0.77567\n",
      "Epoch 56/500\n",
      "96/96 [==============================] - 64s 662ms/step - loss: 0.4220 - accuracy: 0.8563 - val_loss: 1.4332 - val_accuracy: 0.6496\n",
      "\n",
      "Epoch 00056: val_accuracy did not improve from 0.77567\n",
      "Epoch 57/500\n",
      "96/96 [==============================] - 63s 659ms/step - loss: 0.4245 - accuracy: 0.8605 - val_loss: 0.8675 - val_accuracy: 0.7511\n",
      "\n",
      "Epoch 00057: val_accuracy did not improve from 0.77567\n",
      "Epoch 58/500\n",
      "96/96 [==============================] - 63s 660ms/step - loss: 0.4136 - accuracy: 0.8578 - val_loss: 0.9001 - val_accuracy: 0.7444\n",
      "\n",
      "Epoch 00058: val_accuracy did not improve from 0.77567\n",
      "Epoch 59/500\n",
      "96/96 [==============================] - 63s 659ms/step - loss: 0.3984 - accuracy: 0.8673 - val_loss: 1.2884 - val_accuracy: 0.6663\n",
      "\n",
      "Epoch 00059: val_accuracy did not improve from 0.77567\n",
      "Epoch 60/500\n",
      "96/96 [==============================] - 63s 655ms/step - loss: 0.4317 - accuracy: 0.8505 - val_loss: 0.8191 - val_accuracy: 0.7567\n",
      "\n",
      "Epoch 00060: val_accuracy did not improve from 0.77567\n",
      "Epoch 61/500\n",
      "96/96 [==============================] - 63s 655ms/step - loss: 0.4110 - accuracy: 0.8583 - val_loss: 0.7550 - val_accuracy: 0.7612\n",
      "\n",
      "Epoch 00061: val_accuracy did not improve from 0.77567\n",
      "Epoch 62/500\n",
      "96/96 [==============================] - 63s 653ms/step - loss: 0.4004 - accuracy: 0.8670 - val_loss: 0.9769 - val_accuracy: 0.7199\n",
      "\n",
      "Epoch 00062: val_accuracy did not improve from 0.77567\n",
      "Epoch 63/500\n",
      "96/96 [==============================] - 63s 655ms/step - loss: 0.3887 - accuracy: 0.8705 - val_loss: 0.7820 - val_accuracy: 0.7612\n",
      "\n",
      "Epoch 00063: ReduceLROnPlateau reducing learning rate to 0.0009999999776482583.\n",
      "\n",
      "Epoch 00063: val_accuracy did not improve from 0.77567\n",
      "Epoch 64/500\n",
      "96/96 [==============================] - 63s 657ms/step - loss: 0.3819 - accuracy: 0.8700 - val_loss: 0.5304 - val_accuracy: 0.8259\n",
      "\n",
      "Epoch 00064: val_accuracy improved from 0.77567 to 0.82589, saving model to drive/MyDrive/imagenet10.h5\n",
      "Epoch 65/500\n",
      "96/96 [==============================] - 63s 659ms/step - loss: 0.3177 - accuracy: 0.8934 - val_loss: 0.5294 - val_accuracy: 0.8304\n",
      "\n",
      "Epoch 00065: val_accuracy improved from 0.82589 to 0.83036, saving model to drive/MyDrive/imagenet10.h5\n",
      "Epoch 66/500\n",
      "96/96 [==============================] - 64s 664ms/step - loss: 0.3284 - accuracy: 0.8911 - val_loss: 0.5509 - val_accuracy: 0.8248\n",
      "\n",
      "Epoch 00066: val_accuracy did not improve from 0.83036\n",
      "Epoch 67/500\n",
      "96/96 [==============================] - 63s 658ms/step - loss: 0.3179 - accuracy: 0.8946 - val_loss: 0.5276 - val_accuracy: 0.8292\n",
      "\n",
      "Epoch 00067: val_accuracy did not improve from 0.83036\n",
      "Epoch 68/500\n",
      "96/96 [==============================] - 65s 673ms/step - loss: 0.3096 - accuracy: 0.8999 - val_loss: 0.5081 - val_accuracy: 0.8348\n",
      "\n",
      "Epoch 00068: val_accuracy improved from 0.83036 to 0.83482, saving model to drive/MyDrive/imagenet10.h5\n",
      "Epoch 69/500\n",
      "96/96 [==============================] - 64s 663ms/step - loss: 0.3070 - accuracy: 0.8988 - val_loss: 0.4739 - val_accuracy: 0.8504\n",
      "\n",
      "Epoch 00069: val_accuracy improved from 0.83482 to 0.85045, saving model to drive/MyDrive/imagenet10.h5\n",
      "Epoch 70/500\n",
      "96/96 [==============================] - 64s 666ms/step - loss: 0.3102 - accuracy: 0.8958 - val_loss: 0.4899 - val_accuracy: 0.8393\n",
      "\n",
      "Epoch 00070: val_accuracy did not improve from 0.85045\n",
      "Epoch 71/500\n",
      "96/96 [==============================] - 64s 665ms/step - loss: 0.3042 - accuracy: 0.8966 - val_loss: 0.5524 - val_accuracy: 0.8292\n",
      "\n",
      "Epoch 00071: val_accuracy did not improve from 0.85045\n",
      "Epoch 72/500\n",
      "96/96 [==============================] - 63s 653ms/step - loss: 0.3048 - accuracy: 0.8997 - val_loss: 0.5737 - val_accuracy: 0.8203\n",
      "\n",
      "Epoch 00072: val_accuracy did not improve from 0.85045\n",
      "Epoch 73/500\n",
      "96/96 [==============================] - 63s 657ms/step - loss: 0.3028 - accuracy: 0.9024 - val_loss: 0.5552 - val_accuracy: 0.8248\n",
      "\n",
      "Epoch 00073: val_accuracy did not improve from 0.85045\n",
      "Epoch 74/500\n",
      "96/96 [==============================] - 63s 653ms/step - loss: 0.2920 - accuracy: 0.9006 - val_loss: 0.5122 - val_accuracy: 0.8371\n",
      "\n",
      "Epoch 00074: val_accuracy did not improve from 0.85045\n",
      "Epoch 75/500\n",
      "96/96 [==============================] - 63s 654ms/step - loss: 0.2988 - accuracy: 0.8982 - val_loss: 0.5278 - val_accuracy: 0.8359\n",
      "\n",
      "Epoch 00075: val_accuracy did not improve from 0.85045\n",
      "Epoch 76/500\n",
      "96/96 [==============================] - 63s 651ms/step - loss: 0.2958 - accuracy: 0.9007 - val_loss: 0.5571 - val_accuracy: 0.8315\n",
      "\n",
      "Epoch 00076: val_accuracy did not improve from 0.85045\n",
      "Epoch 77/500\n",
      "96/96 [==============================] - 63s 654ms/step - loss: 0.2897 - accuracy: 0.9015 - val_loss: 0.5555 - val_accuracy: 0.8315\n",
      "\n",
      "Epoch 00077: val_accuracy did not improve from 0.85045\n",
      "Epoch 78/500\n",
      "96/96 [==============================] - 63s 660ms/step - loss: 0.2919 - accuracy: 0.8970 - val_loss: 0.5473 - val_accuracy: 0.8337\n",
      "\n",
      "Epoch 00078: val_accuracy did not improve from 0.85045\n",
      "Epoch 79/500\n",
      "96/96 [==============================] - 63s 657ms/step - loss: 0.2847 - accuracy: 0.9055 - val_loss: 0.5600 - val_accuracy: 0.8281\n",
      "\n",
      "Epoch 00079: ReduceLROnPlateau reducing learning rate to 9.999999310821295e-05.\n",
      "\n",
      "Epoch 00079: val_accuracy did not improve from 0.85045\n",
      "Epoch 80/500\n",
      "96/96 [==============================] - 63s 654ms/step - loss: 0.2642 - accuracy: 0.9119 - val_loss: 0.5203 - val_accuracy: 0.8359\n",
      "\n",
      "Epoch 00080: val_accuracy did not improve from 0.85045\n",
      "Epoch 81/500\n",
      "96/96 [==============================] - 63s 650ms/step - loss: 0.2831 - accuracy: 0.9081 - val_loss: 0.5177 - val_accuracy: 0.8348\n",
      "\n",
      "Epoch 00081: val_accuracy did not improve from 0.85045\n",
      "Epoch 82/500\n",
      "96/96 [==============================] - 63s 652ms/step - loss: 0.2673 - accuracy: 0.9086 - val_loss: 0.5237 - val_accuracy: 0.8359\n",
      "\n",
      "Epoch 00082: val_accuracy did not improve from 0.85045\n",
      "Epoch 83/500\n",
      "96/96 [==============================] - 63s 656ms/step - loss: 0.2797 - accuracy: 0.9088 - val_loss: 0.5185 - val_accuracy: 0.8393\n",
      "\n",
      "Epoch 00083: val_accuracy did not improve from 0.85045\n",
      "Epoch 84/500\n",
      "96/96 [==============================] - 63s 653ms/step - loss: 0.2735 - accuracy: 0.9061 - val_loss: 0.5226 - val_accuracy: 0.8304\n",
      "\n",
      "Epoch 00084: val_accuracy did not improve from 0.85045\n",
      "Epoch 85/500\n",
      "96/96 [==============================] - 63s 655ms/step - loss: 0.2702 - accuracy: 0.9059 - val_loss: 0.5080 - val_accuracy: 0.8393\n",
      "\n",
      "Epoch 00085: val_accuracy did not improve from 0.85045\n",
      "Epoch 86/500\n",
      "96/96 [==============================] - 63s 652ms/step - loss: 0.2639 - accuracy: 0.9091 - val_loss: 0.4890 - val_accuracy: 0.8359\n",
      "\n",
      "Epoch 00086: val_accuracy did not improve from 0.85045\n",
      "Epoch 87/500\n",
      "96/96 [==============================] - 63s 653ms/step - loss: 0.2902 - accuracy: 0.9003 - val_loss: 0.5107 - val_accuracy: 0.8326\n",
      "\n",
      "Epoch 00087: val_accuracy did not improve from 0.85045\n",
      "Epoch 88/500\n",
      "96/96 [==============================] - 63s 651ms/step - loss: 0.2758 - accuracy: 0.9049 - val_loss: 0.4908 - val_accuracy: 0.8426\n",
      "\n",
      "Epoch 00088: val_accuracy did not improve from 0.85045\n",
      "Epoch 89/500\n",
      "96/96 [==============================] - 63s 651ms/step - loss: 0.2869 - accuracy: 0.9045 - val_loss: 0.5245 - val_accuracy: 0.8337\n",
      "\n",
      "Epoch 00089: ReduceLROnPlateau reducing learning rate to 1e-05.\n",
      "\n",
      "Epoch 00089: val_accuracy did not improve from 0.85045\n"
     ]
    }
   ],
   "source": [
    "results = model.fit(train_generator,\n",
    "          steps_per_epoch=train_images_numbers // batch_size,\n",
    "          validation_data=test_generator,\n",
    "          validation_steps=val_images_numbers // batch_size,\n",
    "          epochs=500,\n",
    "          callbacks=callbacks)"
   ]
  },
  {
   "cell_type": "code",
   "execution_count": 13,
   "metadata": {
    "colab": {
     "base_uri": "https://localhost:8080/",
     "height": 513
    },
    "id": "AtQUYxCnvYAg",
    "outputId": "622f326e-6824-46ea-fb72-9c6a1bc1d202"
   },
   "outputs": [
    {
     "data": {
      "image/png": "[encoded data removed]",
      "text/plain": [
       "<Figure size 576x576 with 1 Axes>"
      ]
     },
     "metadata": {
      "needs_background": "light",
      "tags": []
     },
     "output_type": "display_data"
    }
   ],
   "source": [
    "plt.figure(figsize=(8, 8))\n",
    "plt.title(\"Learning curve\")\n",
    "plt.plot(results.history[\"accuracy\"], label=\"accuracy\")\n",
    "plt.plot(results.history[\"val_accuracy\"], label=\"val_accuracy\")\n",
    "plt.plot(np.argmax(results.history[\"val_accuracy\"]), np.max(results.history[\"val_accuracy\"]), marker=\"x\", color=\"r\", label=\"best model\")\n",
    "plt.xlabel(\"Epochs\")\n",
    "plt.ylabel(\"log_accuracy\")\n",
    "plt.legend();"
   ]
  },
  {
   "cell_type": "code",
   "execution_count": 14,
   "metadata": {
    "colab": {
     "base_uri": "https://localhost:8080/",
     "height": 513
    },
    "id": "Sg02J65RwV91",
    "outputId": "6a9006b4-2fdc-47de-ef64-848bed7ca9ca"
   },
   "outputs": [
    {
     "data": {
      "image/png": "[encoded data removed]",
      "text/plain": [
       "<Figure size 576x576 with 1 Axes>"
      ]
     },
     "metadata": {
      "needs_background": "light",
      "tags": []
     },
     "output_type": "display_data"
    }
   ],
   "source": [
    "plt.figure(figsize=(8, 8))\n",
    "plt.title(\"Learning curve\")\n",
    "plt.plot(results.history[\"loss\"], label=\"loss\")\n",
    "plt.plot(results.history[\"val_loss\"], label=\"val_loss\")\n",
    "plt.plot(np.argmin(results.history[\"val_loss\"]), np.min(results.history[\"val_loss\"]), marker=\"x\", color=\"r\", label=\"best model\")\n",
    "plt.xlabel(\"Epochs\")\n",
    "plt.ylabel(\"log_loss\")\n",
    "plt.legend();"
   ]
  },
  {
   "cell_type": "code",
   "execution_count": null,
   "metadata": {
    "id": "-JUAMRID2-hp"
   },
   "outputs": [],
   "source": []
  }
 ],
 "metadata": {
  "accelerator": "GPU",
  "colab": {
   "collapsed_sections": [],
   "name": "3 batchnorm only batchnorm.ipynb",
   "provenance": []
  },
  "kernelspec": {
   "display_name": "Python 3",
   "language": "python",
   "name": "python3"
  },
  "language_info": {
   "codemirror_mode": {
    "name": "ipython",
    "version": 3
   },
   "file_extension": ".py",
   "mimetype": "text/x-python",
   "name": "python",
   "nbconvert_exporter": "python",
   "pygments_lexer": "ipython3",
   "version": "3.6.10"
  }
 },
 "nbformat": 4,
 "nbformat_minor": 1
}
